{
  "nbformat": 4,
  "nbformat_minor": 0,
  "metadata": {
    "colab": {
      "name": "Cluster-Analysis-4th-step.ipynb",
      "provenance": [],
      "collapsed_sections": []
    },
    "kernelspec": {
      "name": "python3",
      "display_name": "Python 3"
    }
  },
  "cells": [
    {
      "cell_type": "code",
      "metadata": {
        "id": "8dKNEjwxkqRl",
        "colab_type": "code",
        "outputId": "8ce1b084-df9a-4be6-e03e-801b88ddc087",
        "colab": {
          "base_uri": "https://localhost:8080/",
          "height": 166
        }
      },
      "source": [
        "talktools.py"
      ],
      "execution_count": 0,
      "outputs": [
        {
          "output_type": "error",
          "ename": "NameError",
          "evalue": "ignored",
          "traceback": [
            "\u001b[0;31m---------------------------------------------------------------------------\u001b[0m",
            "\u001b[0;31mNameError\u001b[0m                                 Traceback (most recent call last)",
            "\u001b[0;32m<ipython-input-2-f8533103ad4d>\u001b[0m in \u001b[0;36m<module>\u001b[0;34m()\u001b[0m\n\u001b[0;32m----> 1\u001b[0;31m \u001b[0mtalktools\u001b[0m\u001b[0;34m.\u001b[0m\u001b[0mpy\u001b[0m\u001b[0;34m\u001b[0m\u001b[0;34m\u001b[0m\u001b[0m\n\u001b[0m",
            "\u001b[0;31mNameError\u001b[0m: name 'talktools' is not defined"
          ]
        }
      ]
    },
    {
      "cell_type": "code",
      "metadata": {
        "id": "rHKUypbFPXN7",
        "colab_type": "code",
        "colab": {}
      },
      "source": [
        "#################################\n",
        "\n",
        "#Code for Alteryx\n",
        "\n",
        "# List all non-standard packages to be imported by your \n",
        "# script here (only missing packages will be installed)\n",
        "#from ayx import Package\n",
        "#Package.installPackages(['pandas','numpy'])\n",
        "\n",
        "\n",
        "#from ayx import Alteryx\n",
        "\n",
        "#Alteryx.read(\"#1\")\n",
        "#data = Alteryx.read(\"#1\")"
      ],
      "execution_count": 0,
      "outputs": []
    },
    {
      "cell_type": "code",
      "metadata": {
        "id": "G5jfO4hoCubi",
        "colab_type": "code",
        "outputId": "52af2231-ed83-4f88-8141-f004b6c945f0",
        "colab": {
          "base_uri": "https://localhost:8080/",
          "height": 72
        }
      },
      "source": [
        "#some libraries\n",
        "%matplotlib inline\n",
        "import pandas as pd\n",
        "import numpy as np\n",
        "from google.colab import files\n",
        "from pandas import Series, DataFrame\n",
        "import seaborn as sns\n",
        "from sklearn.cluster import KMeans\n",
        "import matplotlib.pyplot as plt\n",
        "import plotly.express as px\n",
        "\n",
        "#Normalize\n",
        "from sklearn.preprocessing import MinMaxScaler\n",
        "Mms = MinMaxScaler ()\n",
        "\n",
        "#StandardScaler\n",
        "from sklearn.preprocessing import StandardScaler\n",
        "ss = StandardScaler()"
      ],
      "execution_count": 0,
      "outputs": [
        {
          "output_type": "stream",
          "text": [
            "/usr/local/lib/python3.6/dist-packages/statsmodels/tools/_testing.py:19: FutureWarning: pandas.util.testing is deprecated. Use the functions in the public API at pandas.testing instead.\n",
            "  import pandas.util.testing as tm\n"
          ],
          "name": "stderr"
        }
      ]
    },
    {
      "cell_type": "code",
      "metadata": {
        "id": "c3FrcB2RPjyF",
        "colab_type": "code",
        "outputId": "88087b3e-aa8a-485f-cc7d-67da7187b5e6",
        "colab": {
          "base_uri": "https://localhost:8080/",
          "height": 413
        }
      },
      "source": [
        "# Get dataset\n",
        "from google.colab import drive\n",
        "drive.mount('/content/gdrive')\n",
        "data = pd.read_csv(\"/content/gdrive/My Drive/Colab Notebooks/Cluster-Analysis/Base-NoLA-v1.csv\", encoding='latin-1')\n",
        "data.head()\n",
        "\n"
      ],
      "execution_count": 0,
      "outputs": [
        {
          "output_type": "stream",
          "text": [
            "Drive already mounted at /content/gdrive; to attempt to forcibly remount, call drive.mount(\"/content/gdrive\", force_remount=True).\n"
          ],
          "name": "stdout"
        },
        {
          "output_type": "execute_result",
          "data": {
            "text/html": [
              "<div>\n",
              "<style scoped>\n",
              "    .dataframe tbody tr th:only-of-type {\n",
              "        vertical-align: middle;\n",
              "    }\n",
              "\n",
              "    .dataframe tbody tr th {\n",
              "        vertical-align: top;\n",
              "    }\n",
              "\n",
              "    .dataframe thead th {\n",
              "        text-align: right;\n",
              "    }\n",
              "</style>\n",
              "<table border=\"1\" class=\"dataframe\">\n",
              "  <thead>\n",
              "    <tr style=\"text-align: right;\">\n",
              "      <th></th>\n",
              "      <th>Fecha</th>\n",
              "      <th>Año</th>\n",
              "      <th>Mes</th>\n",
              "      <th>Region_Nola</th>\n",
              "      <th>Pais</th>\n",
              "      <th>Canal</th>\n",
              "      <th>Distribuidor</th>\n",
              "      <th>Ciudad_Distribuidor</th>\n",
              "      <th>Vendedor Push</th>\n",
              "      <th>DTM</th>\n",
              "      <th>Vendedor</th>\n",
              "      <th>RFC</th>\n",
              "      <th>Razon Social Operador</th>\n",
              "      <th>Rtm</th>\n",
              "      <th>Clasificacion</th>\n",
              "      <th>Fecha Alta</th>\n",
              "      <th>Count_Skus</th>\n",
              "      <th>Count_Skus_Descrip</th>\n",
              "      <th>Count_Categorias</th>\n",
              "      <th>Count_Marcas</th>\n",
              "      <th>Sum_Cajas</th>\n",
              "      <th>Sum_Peso_Neto_KG</th>\n",
              "      <th>Count_Top 10</th>\n",
              "      <th>Sum_Euro</th>\n",
              "      <th>Sum_Niv Euro</th>\n",
              "      <th>Max_Fecha</th>\n",
              "      <th>Min_Fecha</th>\n",
              "      <th>Group_date</th>\n",
              "      <th>Revisión</th>\n",
              "    </tr>\n",
              "  </thead>\n",
              "  <tbody>\n",
              "    <tr>\n",
              "      <th>0</th>\n",
              "      <td>2018-03-01</td>\n",
              "      <td>2018</td>\n",
              "      <td>MARZO</td>\n",
              "      <td>Andina</td>\n",
              "      <td>COLOMBIA</td>\n",
              "      <td>Trade</td>\n",
              "      <td>CUATROE S A S</td>\n",
              "      <td>PEREIRA</td>\n",
              "      <td>John Vasquez</td>\n",
              "      <td>C</td>\n",
              "      <td>FREE TRADE</td>\n",
              "      <td>10006823</td>\n",
              "      <td>JHON JAIRO VALENCIA</td>\n",
              "      <td>F.TRADE</td>\n",
              "      <td>0</td>\n",
              "      <td>NaN</td>\n",
              "      <td>2</td>\n",
              "      <td>2</td>\n",
              "      <td>2</td>\n",
              "      <td>2</td>\n",
              "      <td>0.395833</td>\n",
              "      <td>6.200000</td>\n",
              "      <td>0</td>\n",
              "      <td>21.049648</td>\n",
              "      <td>19.365676</td>\n",
              "      <td>2020-03-01</td>\n",
              "      <td>2018-01-01</td>\n",
              "      <td>Group 1</td>\n",
              "      <td>2018-04-30</td>\n",
              "    </tr>\n",
              "    <tr>\n",
              "      <th>1</th>\n",
              "      <td>2018-03-01</td>\n",
              "      <td>2018</td>\n",
              "      <td>MARZO</td>\n",
              "      <td>Andina</td>\n",
              "      <td>COLOMBIA</td>\n",
              "      <td>Trade</td>\n",
              "      <td>CUATROE S A S</td>\n",
              "      <td>PEREIRA</td>\n",
              "      <td>John Vasquez</td>\n",
              "      <td>C</td>\n",
              "      <td>FREE TRADE</td>\n",
              "      <td>10027437</td>\n",
              "      <td>ROBLEDO JORGE EDUARDO</td>\n",
              "      <td>F.TRADE</td>\n",
              "      <td>0</td>\n",
              "      <td>NaN</td>\n",
              "      <td>4</td>\n",
              "      <td>4</td>\n",
              "      <td>4</td>\n",
              "      <td>4</td>\n",
              "      <td>12.250000</td>\n",
              "      <td>182.936249</td>\n",
              "      <td>1</td>\n",
              "      <td>311.534313</td>\n",
              "      <td>286.611570</td>\n",
              "      <td>2020-03-01</td>\n",
              "      <td>2018-01-01</td>\n",
              "      <td>Group 1</td>\n",
              "      <td>2018-04-30</td>\n",
              "    </tr>\n",
              "    <tr>\n",
              "      <th>2</th>\n",
              "      <td>2018-03-01</td>\n",
              "      <td>2018</td>\n",
              "      <td>MARZO</td>\n",
              "      <td>Andina</td>\n",
              "      <td>COLOMBIA</td>\n",
              "      <td>Trade</td>\n",
              "      <td>CUATROE S A S</td>\n",
              "      <td>PEREIRA</td>\n",
              "      <td>John Vasquez</td>\n",
              "      <td>C</td>\n",
              "      <td>FREE TRADE</td>\n",
              "      <td>10070054</td>\n",
              "      <td>HERRERA AGUDELO HENRY BENJAMIN</td>\n",
              "      <td>F.TRADE</td>\n",
              "      <td>0</td>\n",
              "      <td>NaN</td>\n",
              "      <td>2</td>\n",
              "      <td>2</td>\n",
              "      <td>2</td>\n",
              "      <td>2</td>\n",
              "      <td>0.500000</td>\n",
              "      <td>8.120000</td>\n",
              "      <td>2</td>\n",
              "      <td>16.390652</td>\n",
              "      <td>15.079400</td>\n",
              "      <td>2020-03-01</td>\n",
              "      <td>2018-01-01</td>\n",
              "      <td>Group 1</td>\n",
              "      <td>2018-04-30</td>\n",
              "    </tr>\n",
              "    <tr>\n",
              "      <th>3</th>\n",
              "      <td>2018-03-01</td>\n",
              "      <td>2018</td>\n",
              "      <td>MARZO</td>\n",
              "      <td>Andina</td>\n",
              "      <td>COLOMBIA</td>\n",
              "      <td>Trade</td>\n",
              "      <td>CUATROE S A S</td>\n",
              "      <td>PEREIRA</td>\n",
              "      <td>John Vasquez</td>\n",
              "      <td>C</td>\n",
              "      <td>FREE TRADE</td>\n",
              "      <td>10099018</td>\n",
              "      <td>FERNANDEZ GERMAN</td>\n",
              "      <td>F.TRADE</td>\n",
              "      <td>0</td>\n",
              "      <td>NaN</td>\n",
              "      <td>2</td>\n",
              "      <td>2</td>\n",
              "      <td>2</td>\n",
              "      <td>2</td>\n",
              "      <td>1.000000</td>\n",
              "      <td>16.240000</td>\n",
              "      <td>2</td>\n",
              "      <td>32.781304</td>\n",
              "      <td>30.158800</td>\n",
              "      <td>2020-03-01</td>\n",
              "      <td>2018-01-01</td>\n",
              "      <td>Group 1</td>\n",
              "      <td>2018-04-30</td>\n",
              "    </tr>\n",
              "    <tr>\n",
              "      <th>4</th>\n",
              "      <td>2018-03-01</td>\n",
              "      <td>2018</td>\n",
              "      <td>MARZO</td>\n",
              "      <td>Andina</td>\n",
              "      <td>COLOMBIA</td>\n",
              "      <td>Trade</td>\n",
              "      <td>CUATROE S A S</td>\n",
              "      <td>PEREIRA</td>\n",
              "      <td>John Vasquez</td>\n",
              "      <td>C</td>\n",
              "      <td>FREE TRADE</td>\n",
              "      <td>10099018</td>\n",
              "      <td>LA VINA CIRCUNVALAR .</td>\n",
              "      <td>F.TRADE</td>\n",
              "      <td>0</td>\n",
              "      <td>NaN</td>\n",
              "      <td>1</td>\n",
              "      <td>1</td>\n",
              "      <td>1</td>\n",
              "      <td>1</td>\n",
              "      <td>0.750000</td>\n",
              "      <td>11.310000</td>\n",
              "      <td>1</td>\n",
              "      <td>25.958296</td>\n",
              "      <td>23.881632</td>\n",
              "      <td>2020-03-01</td>\n",
              "      <td>2018-01-01</td>\n",
              "      <td>Group 1</td>\n",
              "      <td>2018-04-30</td>\n",
              "    </tr>\n",
              "  </tbody>\n",
              "</table>\n",
              "</div>"
            ],
            "text/plain": [
              "        Fecha   Año    Mes  ...   Min_Fecha Group_date    Revisión\n",
              "0  2018-03-01  2018  MARZO  ...  2018-01-01    Group 1  2018-04-30\n",
              "1  2018-03-01  2018  MARZO  ...  2018-01-01    Group 1  2018-04-30\n",
              "2  2018-03-01  2018  MARZO  ...  2018-01-01    Group 1  2018-04-30\n",
              "3  2018-03-01  2018  MARZO  ...  2018-01-01    Group 1  2018-04-30\n",
              "4  2018-03-01  2018  MARZO  ...  2018-01-01    Group 1  2018-04-30\n",
              "\n",
              "[5 rows x 29 columns]"
            ]
          },
          "metadata": {
            "tags": []
          },
          "execution_count": 3
        }
      ]
    },
    {
      "cell_type": "code",
      "metadata": {
        "id": "J2KmosxQHh7z",
        "colab_type": "code",
        "outputId": "6b0b2055-34d1-4f8a-8d62-9d8e04f962dc",
        "colab": {
          "base_uri": "https://localhost:8080/",
          "height": 139
        }
      },
      "source": [
        "data.columns"
      ],
      "execution_count": 0,
      "outputs": [
        {
          "output_type": "execute_result",
          "data": {
            "text/plain": [
              "Index(['Fecha', 'Año', 'Mes', 'Region_Nola', 'Pais', 'Canal', 'Distribuidor',\n",
              "       'Ciudad_Distribuidor', 'Vendedor Push', 'DTM', 'Vendedor', 'RFC',\n",
              "       'Razon Social Operador', 'Rtm', 'Clasificacion', 'Fecha Alta',\n",
              "       'Count_Skus', 'Count_Skus_Descrip', 'Count_Categorias', 'Count_Marcas',\n",
              "       'Sum_Cajas', 'Sum_Peso_Neto_KG', 'Count_Top 10', 'Sum_Euro',\n",
              "       'Sum_Niv Euro', 'Max_Fecha', 'Min_Fecha', 'Group_date', 'Revisión'],\n",
              "      dtype='object')"
            ]
          },
          "metadata": {
            "tags": []
          },
          "execution_count": 4
        }
      ]
    },
    {
      "cell_type": "markdown",
      "metadata": {
        "id": "zEfI6ZJbRynl",
        "colab_type": "text"
      },
      "source": [
        "## Include OTM"
      ]
    },
    {
      "cell_type": "code",
      "metadata": {
        "id": "m3ugVfunR1aK",
        "colab_type": "code",
        "outputId": "9588f197-732f-4bd5-c6c4-5d2b329efccb",
        "colab": {
          "base_uri": "https://localhost:8080/",
          "height": 341
        }
      },
      "source": [
        "X = data[['Count_Skus', 'Sum_Euro', 'Sum_Cajas','Count_Top 10','Clasificacion','Count_Categorias', 'Count_Marcas','Sum_Peso_Neto_KG']]\n",
        "X['Clasif_Num'] = [1 if x =='A' \n",
        "                   else 2 if x=='B'\n",
        "                   else 3 if x=='C'\n",
        "                   else 4 if x=='D'\n",
        "                   else 5 \n",
        "                   for x in X['Clasificacion']]\n",
        "X2 = pd.DataFrame(data=X,columns=['Count_Skus', 'Sum_Euro', 'Sum_Cajas','Count_Top 10','Clasif_Num','Count_Categorias', 'Count_Marcas','Sum_Peso_Neto_KG'])\n",
        "\n",
        "X2.head()"
      ],
      "execution_count": 0,
      "outputs": [
        {
          "output_type": "stream",
          "text": [
            "/usr/local/lib/python3.6/dist-packages/ipykernel_launcher.py:7: SettingWithCopyWarning:\n",
            "\n",
            "\n",
            "A value is trying to be set on a copy of a slice from a DataFrame.\n",
            "Try using .loc[row_indexer,col_indexer] = value instead\n",
            "\n",
            "See the caveats in the documentation: https://pandas.pydata.org/pandas-docs/stable/user_guide/indexing.html#returning-a-view-versus-a-copy\n",
            "\n"
          ],
          "name": "stderr"
        },
        {
          "output_type": "execute_result",
          "data": {
            "text/html": [
              "<div>\n",
              "<style scoped>\n",
              "    .dataframe tbody tr th:only-of-type {\n",
              "        vertical-align: middle;\n",
              "    }\n",
              "\n",
              "    .dataframe tbody tr th {\n",
              "        vertical-align: top;\n",
              "    }\n",
              "\n",
              "    .dataframe thead th {\n",
              "        text-align: right;\n",
              "    }\n",
              "</style>\n",
              "<table border=\"1\" class=\"dataframe\">\n",
              "  <thead>\n",
              "    <tr style=\"text-align: right;\">\n",
              "      <th></th>\n",
              "      <th>Count_Skus</th>\n",
              "      <th>Sum_Euro</th>\n",
              "      <th>Sum_Cajas</th>\n",
              "      <th>Count_Top 10</th>\n",
              "      <th>Clasif_Num</th>\n",
              "      <th>Count_Categorias</th>\n",
              "      <th>Count_Marcas</th>\n",
              "      <th>Sum_Peso_Neto_KG</th>\n",
              "    </tr>\n",
              "  </thead>\n",
              "  <tbody>\n",
              "    <tr>\n",
              "      <th>0</th>\n",
              "      <td>2</td>\n",
              "      <td>21.049648</td>\n",
              "      <td>0.395833</td>\n",
              "      <td>0</td>\n",
              "      <td>5</td>\n",
              "      <td>2</td>\n",
              "      <td>2</td>\n",
              "      <td>6.200000</td>\n",
              "    </tr>\n",
              "    <tr>\n",
              "      <th>1</th>\n",
              "      <td>4</td>\n",
              "      <td>311.534313</td>\n",
              "      <td>12.250000</td>\n",
              "      <td>1</td>\n",
              "      <td>5</td>\n",
              "      <td>4</td>\n",
              "      <td>4</td>\n",
              "      <td>182.936249</td>\n",
              "    </tr>\n",
              "    <tr>\n",
              "      <th>2</th>\n",
              "      <td>2</td>\n",
              "      <td>16.390652</td>\n",
              "      <td>0.500000</td>\n",
              "      <td>2</td>\n",
              "      <td>5</td>\n",
              "      <td>2</td>\n",
              "      <td>2</td>\n",
              "      <td>8.120000</td>\n",
              "    </tr>\n",
              "    <tr>\n",
              "      <th>3</th>\n",
              "      <td>2</td>\n",
              "      <td>32.781304</td>\n",
              "      <td>1.000000</td>\n",
              "      <td>2</td>\n",
              "      <td>5</td>\n",
              "      <td>2</td>\n",
              "      <td>2</td>\n",
              "      <td>16.240000</td>\n",
              "    </tr>\n",
              "    <tr>\n",
              "      <th>4</th>\n",
              "      <td>1</td>\n",
              "      <td>25.958296</td>\n",
              "      <td>0.750000</td>\n",
              "      <td>1</td>\n",
              "      <td>5</td>\n",
              "      <td>1</td>\n",
              "      <td>1</td>\n",
              "      <td>11.310000</td>\n",
              "    </tr>\n",
              "  </tbody>\n",
              "</table>\n",
              "</div>"
            ],
            "text/plain": [
              "   Count_Skus    Sum_Euro  ...  Count_Marcas  Sum_Peso_Neto_KG\n",
              "0           2   21.049648  ...             2          6.200000\n",
              "1           4  311.534313  ...             4        182.936249\n",
              "2           2   16.390652  ...             2          8.120000\n",
              "3           2   32.781304  ...             2         16.240000\n",
              "4           1   25.958296  ...             1         11.310000\n",
              "\n",
              "[5 rows x 8 columns]"
            ]
          },
          "metadata": {
            "tags": []
          },
          "execution_count": 5
        }
      ]
    },
    {
      "cell_type": "markdown",
      "metadata": {
        "id": "tDfchFdjZkLa",
        "colab_type": "text"
      },
      "source": [
        "## Normalize data with OTM"
      ]
    },
    {
      "cell_type": "code",
      "metadata": {
        "id": "K1R7Wt8ETpwI",
        "colab_type": "code",
        "outputId": "a82209cd-4a0a-48d1-9ee8-1003437e4b5a",
        "colab": {
          "base_uri": "https://localhost:8080/",
          "height": 297
        }
      },
      "source": [
        "\n",
        "DF_nm2 = Mms.fit_transform(X2)\n",
        "X3 = X2.drop(['Clasif_Num'],axis=1)\n",
        "Y = np.array(X2['Clasif_Num'].astype(float))\n",
        "\n",
        "KM_5 = KMeans(n_clusters=5, random_state=0).fit(X3,sample_weight = Y)\n",
        "\n",
        "plt.scatter(X2['Count_Skus'], X2['Sum_Euro'], c=KM_5.labels_)\n",
        "plt.xlabel(\"# Skus\")\n",
        "plt.ylabel(\"GSV Euros\")"
      ],
      "execution_count": 0,
      "outputs": [
        {
          "output_type": "execute_result",
          "data": {
            "text/plain": [
              "Text(0, 0.5, 'GSV Euros')"
            ]
          },
          "metadata": {
            "tags": []
          },
          "execution_count": 6
        },
        {
          "output_type": "display_data",
          "data": {
            "image/png": "[encoded data removed]",
            "text/plain": [
              "<Figure size 432x288 with 1 Axes>"
            ]
          },
          "metadata": {
            "tags": [],
            "needs_background": "light"
          }
        }
      ]
    },
    {
      "cell_type": "code",
      "metadata": {
        "id": "PS3CuN5ndyFD",
        "colab_type": "code",
        "outputId": "a5c03d94-2e06-4faa-966e-baef62addd2e",
        "colab": {
          "base_uri": "https://localhost:8080/",
          "height": 202
        }
      },
      "source": [
        "X3.head()"
      ],
      "execution_count": 0,
      "outputs": [
        {
          "output_type": "execute_result",
          "data": {
            "text/html": [
              "<div>\n",
              "<style scoped>\n",
              "    .dataframe tbody tr th:only-of-type {\n",
              "        vertical-align: middle;\n",
              "    }\n",
              "\n",
              "    .dataframe tbody tr th {\n",
              "        vertical-align: top;\n",
              "    }\n",
              "\n",
              "    .dataframe thead th {\n",
              "        text-align: right;\n",
              "    }\n",
              "</style>\n",
              "<table border=\"1\" class=\"dataframe\">\n",
              "  <thead>\n",
              "    <tr style=\"text-align: right;\">\n",
              "      <th></th>\n",
              "      <th>Count_Skus</th>\n",
              "      <th>Sum_Euro</th>\n",
              "      <th>Sum_Cajas</th>\n",
              "      <th>Count_Top 10</th>\n",
              "      <th>Count_Categorias</th>\n",
              "      <th>Count_Marcas</th>\n",
              "      <th>Sum_Peso_Neto_KG</th>\n",
              "    </tr>\n",
              "  </thead>\n",
              "  <tbody>\n",
              "    <tr>\n",
              "      <th>0</th>\n",
              "      <td>2</td>\n",
              "      <td>21.049648</td>\n",
              "      <td>0.395833</td>\n",
              "      <td>0</td>\n",
              "      <td>2</td>\n",
              "      <td>2</td>\n",
              "      <td>6.200000</td>\n",
              "    </tr>\n",
              "    <tr>\n",
              "      <th>1</th>\n",
              "      <td>4</td>\n",
              "      <td>311.534313</td>\n",
              "      <td>12.250000</td>\n",
              "      <td>1</td>\n",
              "      <td>4</td>\n",
              "      <td>4</td>\n",
              "      <td>182.936249</td>\n",
              "    </tr>\n",
              "    <tr>\n",
              "      <th>2</th>\n",
              "      <td>2</td>\n",
              "      <td>16.390652</td>\n",
              "      <td>0.500000</td>\n",
              "      <td>2</td>\n",
              "      <td>2</td>\n",
              "      <td>2</td>\n",
              "      <td>8.120000</td>\n",
              "    </tr>\n",
              "    <tr>\n",
              "      <th>3</th>\n",
              "      <td>2</td>\n",
              "      <td>32.781304</td>\n",
              "      <td>1.000000</td>\n",
              "      <td>2</td>\n",
              "      <td>2</td>\n",
              "      <td>2</td>\n",
              "      <td>16.240000</td>\n",
              "    </tr>\n",
              "    <tr>\n",
              "      <th>4</th>\n",
              "      <td>1</td>\n",
              "      <td>25.958296</td>\n",
              "      <td>0.750000</td>\n",
              "      <td>1</td>\n",
              "      <td>1</td>\n",
              "      <td>1</td>\n",
              "      <td>11.310000</td>\n",
              "    </tr>\n",
              "  </tbody>\n",
              "</table>\n",
              "</div>"
            ],
            "text/plain": [
              "   Count_Skus    Sum_Euro  ...  Count_Marcas  Sum_Peso_Neto_KG\n",
              "0           2   21.049648  ...             2          6.200000\n",
              "1           4  311.534313  ...             4        182.936249\n",
              "2           2   16.390652  ...             2          8.120000\n",
              "3           2   32.781304  ...             2         16.240000\n",
              "4           1   25.958296  ...             1         11.310000\n",
              "\n",
              "[5 rows x 7 columns]"
            ]
          },
          "metadata": {
            "tags": []
          },
          "execution_count": 7
        }
      ]
    },
    {
      "cell_type": "code",
      "metadata": {
        "id": "plabKIHxZ0ED",
        "colab_type": "code",
        "outputId": "f2e2b2cd-df30-42be-fd7e-617b11720256",
        "colab": {
          "base_uri": "https://localhost:8080/",
          "height": 542
        }
      },
      "source": [
        "fig2 = px.scatter_3d(X2, x='Count_Skus', y='Sum_Euro', z='Count_Top 10',color=KM_5.labels_)\n",
        "fig2.show()"
      ],
      "execution_count": 0,
      "outputs": []
    },
    {
      "cell_type": "markdown",
      "metadata": {
        "id": "yV50snL9H4bs",
        "colab_type": "text"
      },
      "source": [
        "### Current clasification vs Clusterization"
      ]
    },
    {
      "cell_type": "code",
      "metadata": {
        "id": "dEJMfUkebN_V",
        "colab_type": "code",
        "outputId": "4967ea6c-7597-4ac3-b126-8a0d78d65b1b",
        "colab": {
          "base_uri": "https://localhost:8080/",
          "height": 542
        }
      },
      "source": [
        "fig3 = px.scatter_3d(X2, x='Count_Skus', y='Sum_Euro', z='Clasif_Num',\n",
        "              color=KM_5.labels_)\n",
        "fig3.show()\n"
      ],
      "execution_count": 0,
      "outputs": []
    },
    {
      "cell_type": "markdown",
      "metadata": {
        "id": "ISXSI6NaeXFa",
        "colab_type": "text"
      },
      "source": [
        "## Cluster description"
      ]
    },
    {
      "cell_type": "code",
      "metadata": {
        "id": "U_ASt8yrfLqH",
        "colab_type": "code",
        "outputId": "c2fbaf2e-f81c-44de-8254-5f5a274c3929",
        "colab": {
          "base_uri": "https://localhost:8080/",
          "height": 710
        }
      },
      "source": [
        "\n",
        "cluslist=list(X3['index'])\n",
        "\n",
        "\n",
        "labels=list(KM_5.labels_)\n",
        "\n",
        "newlist=dict(zip(cluslist, labels))\n",
        "newlist\n",
        "\n",
        "newclus=DataFrame.from_dict(newlist, orient='index')\n",
        "newclus\n",
        "\n",
        "newclus.columns = ['cluster']\n",
        "\n",
        "newclus.reset_index(level=0, inplace=True)\n",
        "\n",
        "merged_X=pd.merge(X3, newclus, on='index')\n"
      ],
      "execution_count": 0,
      "outputs": [
        {
          "output_type": "error",
          "ename": "KeyError",
          "evalue": "ignored",
          "traceback": [
            "\u001b[0;31m---------------------------------------------------------------------------\u001b[0m",
            "\u001b[0;31mKeyError\u001b[0m                                  Traceback (most recent call last)",
            "\u001b[0;32m/usr/local/lib/python3.6/dist-packages/pandas/core/indexes/base.py\u001b[0m in \u001b[0;36mget_loc\u001b[0;34m(self, key, method, tolerance)\u001b[0m\n\u001b[1;32m   2645\u001b[0m             \u001b[0;32mtry\u001b[0m\u001b[0;34m:\u001b[0m\u001b[0;34m\u001b[0m\u001b[0;34m\u001b[0m\u001b[0m\n\u001b[0;32m-> 2646\u001b[0;31m                 \u001b[0;32mreturn\u001b[0m \u001b[0mself\u001b[0m\u001b[0;34m.\u001b[0m\u001b[0m_engine\u001b[0m\u001b[0;34m.\u001b[0m\u001b[0mget_loc\u001b[0m\u001b[0;34m(\u001b[0m\u001b[0mkey\u001b[0m\u001b[0;34m)\u001b[0m\u001b[0;34m\u001b[0m\u001b[0;34m\u001b[0m\u001b[0m\n\u001b[0m\u001b[1;32m   2647\u001b[0m             \u001b[0;32mexcept\u001b[0m \u001b[0mKeyError\u001b[0m\u001b[0;34m:\u001b[0m\u001b[0;34m\u001b[0m\u001b[0;34m\u001b[0m\u001b[0m\n",
            "\u001b[0;32mpandas/_libs/index.pyx\u001b[0m in \u001b[0;36mpandas._libs.index.IndexEngine.get_loc\u001b[0;34m()\u001b[0m\n",
            "\u001b[0;32mpandas/_libs/index.pyx\u001b[0m in \u001b[0;36mpandas._libs.index.IndexEngine.get_loc\u001b[0;34m()\u001b[0m\n",
            "\u001b[0;32mpandas/_libs/hashtable_class_helper.pxi\u001b[0m in \u001b[0;36mpandas._libs.hashtable.PyObjectHashTable.get_item\u001b[0;34m()\u001b[0m\n",
            "\u001b[0;32mpandas/_libs/hashtable_class_helper.pxi\u001b[0m in \u001b[0;36mpandas._libs.hashtable.PyObjectHashTable.get_item\u001b[0;34m()\u001b[0m\n",
            "\u001b[0;31mKeyError\u001b[0m: 'index'",
            "\nDuring handling of the above exception, another exception occurred:\n",
            "\u001b[0;31mKeyError\u001b[0m                                  Traceback (most recent call last)",
            "\u001b[0;32m<ipython-input-10-2bd0d7ca38ec>\u001b[0m in \u001b[0;36m<module>\u001b[0;34m()\u001b[0m\n\u001b[1;32m      1\u001b[0m \u001b[0;34m\u001b[0m\u001b[0m\n\u001b[0;32m----> 2\u001b[0;31m \u001b[0mcluslist\u001b[0m\u001b[0;34m=\u001b[0m\u001b[0mlist\u001b[0m\u001b[0;34m(\u001b[0m\u001b[0mX3\u001b[0m\u001b[0;34m[\u001b[0m\u001b[0;34m'index'\u001b[0m\u001b[0;34m]\u001b[0m\u001b[0;34m)\u001b[0m\u001b[0;34m\u001b[0m\u001b[0;34m\u001b[0m\u001b[0m\n\u001b[0m\u001b[1;32m      3\u001b[0m \u001b[0;34m\u001b[0m\u001b[0m\n\u001b[1;32m      4\u001b[0m \u001b[0;34m\u001b[0m\u001b[0m\n\u001b[1;32m      5\u001b[0m \u001b[0mlabels\u001b[0m\u001b[0;34m=\u001b[0m\u001b[0mlist\u001b[0m\u001b[0;34m(\u001b[0m\u001b[0mKM_5\u001b[0m\u001b[0;34m.\u001b[0m\u001b[0mlabels_\u001b[0m\u001b[0;34m)\u001b[0m\u001b[0;34m\u001b[0m\u001b[0;34m\u001b[0m\u001b[0m\n",
            "\u001b[0;32m/usr/local/lib/python3.6/dist-packages/pandas/core/frame.py\u001b[0m in \u001b[0;36m__getitem__\u001b[0;34m(self, key)\u001b[0m\n\u001b[1;32m   2798\u001b[0m             \u001b[0;32mif\u001b[0m \u001b[0mself\u001b[0m\u001b[0;34m.\u001b[0m\u001b[0mcolumns\u001b[0m\u001b[0;34m.\u001b[0m\u001b[0mnlevels\u001b[0m \u001b[0;34m>\u001b[0m \u001b[0;36m1\u001b[0m\u001b[0;34m:\u001b[0m\u001b[0;34m\u001b[0m\u001b[0;34m\u001b[0m\u001b[0m\n\u001b[1;32m   2799\u001b[0m                 \u001b[0;32mreturn\u001b[0m \u001b[0mself\u001b[0m\u001b[0;34m.\u001b[0m\u001b[0m_getitem_multilevel\u001b[0m\u001b[0;34m(\u001b[0m\u001b[0mkey\u001b[0m\u001b[0;34m)\u001b[0m\u001b[0;34m\u001b[0m\u001b[0;34m\u001b[0m\u001b[0m\n\u001b[0;32m-> 2800\u001b[0;31m             \u001b[0mindexer\u001b[0m \u001b[0;34m=\u001b[0m \u001b[0mself\u001b[0m\u001b[0;34m.\u001b[0m\u001b[0mcolumns\u001b[0m\u001b[0;34m.\u001b[0m\u001b[0mget_loc\u001b[0m\u001b[0;34m(\u001b[0m\u001b[0mkey\u001b[0m\u001b[0;34m)\u001b[0m\u001b[0;34m\u001b[0m\u001b[0;34m\u001b[0m\u001b[0m\n\u001b[0m\u001b[1;32m   2801\u001b[0m             \u001b[0;32mif\u001b[0m \u001b[0mis_integer\u001b[0m\u001b[0;34m(\u001b[0m\u001b[0mindexer\u001b[0m\u001b[0;34m)\u001b[0m\u001b[0;34m:\u001b[0m\u001b[0;34m\u001b[0m\u001b[0;34m\u001b[0m\u001b[0m\n\u001b[1;32m   2802\u001b[0m                 \u001b[0mindexer\u001b[0m \u001b[0;34m=\u001b[0m \u001b[0;34m[\u001b[0m\u001b[0mindexer\u001b[0m\u001b[0;34m]\u001b[0m\u001b[0;34m\u001b[0m\u001b[0;34m\u001b[0m\u001b[0m\n",
            "\u001b[0;32m/usr/local/lib/python3.6/dist-packages/pandas/core/indexes/base.py\u001b[0m in \u001b[0;36mget_loc\u001b[0;34m(self, key, method, tolerance)\u001b[0m\n\u001b[1;32m   2646\u001b[0m                 \u001b[0;32mreturn\u001b[0m \u001b[0mself\u001b[0m\u001b[0;34m.\u001b[0m\u001b[0m_engine\u001b[0m\u001b[0;34m.\u001b[0m\u001b[0mget_loc\u001b[0m\u001b[0;34m(\u001b[0m\u001b[0mkey\u001b[0m\u001b[0;34m)\u001b[0m\u001b[0;34m\u001b[0m\u001b[0;34m\u001b[0m\u001b[0m\n\u001b[1;32m   2647\u001b[0m             \u001b[0;32mexcept\u001b[0m \u001b[0mKeyError\u001b[0m\u001b[0;34m:\u001b[0m\u001b[0;34m\u001b[0m\u001b[0;34m\u001b[0m\u001b[0m\n\u001b[0;32m-> 2648\u001b[0;31m                 \u001b[0;32mreturn\u001b[0m \u001b[0mself\u001b[0m\u001b[0;34m.\u001b[0m\u001b[0m_engine\u001b[0m\u001b[0;34m.\u001b[0m\u001b[0mget_loc\u001b[0m\u001b[0;34m(\u001b[0m\u001b[0mself\u001b[0m\u001b[0;34m.\u001b[0m\u001b[0m_maybe_cast_indexer\u001b[0m\u001b[0;34m(\u001b[0m\u001b[0mkey\u001b[0m\u001b[0;34m)\u001b[0m\u001b[0;34m)\u001b[0m\u001b[0;34m\u001b[0m\u001b[0;34m\u001b[0m\u001b[0m\n\u001b[0m\u001b[1;32m   2649\u001b[0m         \u001b[0mindexer\u001b[0m \u001b[0;34m=\u001b[0m \u001b[0mself\u001b[0m\u001b[0;34m.\u001b[0m\u001b[0mget_indexer\u001b[0m\u001b[0;34m(\u001b[0m\u001b[0;34m[\u001b[0m\u001b[0mkey\u001b[0m\u001b[0;34m]\u001b[0m\u001b[0;34m,\u001b[0m \u001b[0mmethod\u001b[0m\u001b[0;34m=\u001b[0m\u001b[0mmethod\u001b[0m\u001b[0;34m,\u001b[0m \u001b[0mtolerance\u001b[0m\u001b[0;34m=\u001b[0m\u001b[0mtolerance\u001b[0m\u001b[0;34m)\u001b[0m\u001b[0;34m\u001b[0m\u001b[0;34m\u001b[0m\u001b[0m\n\u001b[1;32m   2650\u001b[0m         \u001b[0;32mif\u001b[0m \u001b[0mindexer\u001b[0m\u001b[0;34m.\u001b[0m\u001b[0mndim\u001b[0m \u001b[0;34m>\u001b[0m \u001b[0;36m1\u001b[0m \u001b[0;32mor\u001b[0m \u001b[0mindexer\u001b[0m\u001b[0;34m.\u001b[0m\u001b[0msize\u001b[0m \u001b[0;34m>\u001b[0m \u001b[0;36m1\u001b[0m\u001b[0;34m:\u001b[0m\u001b[0;34m\u001b[0m\u001b[0;34m\u001b[0m\u001b[0m\n",
            "\u001b[0;32mpandas/_libs/index.pyx\u001b[0m in \u001b[0;36mpandas._libs.index.IndexEngine.get_loc\u001b[0;34m()\u001b[0m\n",
            "\u001b[0;32mpandas/_libs/index.pyx\u001b[0m in \u001b[0;36mpandas._libs.index.IndexEngine.get_loc\u001b[0;34m()\u001b[0m\n",
            "\u001b[0;32mpandas/_libs/hashtable_class_helper.pxi\u001b[0m in \u001b[0;36mpandas._libs.hashtable.PyObjectHashTable.get_item\u001b[0;34m()\u001b[0m\n",
            "\u001b[0;32mpandas/_libs/hashtable_class_helper.pxi\u001b[0m in \u001b[0;36mpandas._libs.hashtable.PyObjectHashTable.get_item\u001b[0;34m()\u001b[0m\n",
            "\u001b[0;31mKeyError\u001b[0m: 'index'"
          ]
        }
      ]
    },
    {
      "cell_type": "markdown",
      "metadata": {
        "id": "IFiM3Vzuj8MM",
        "colab_type": "text"
      },
      "source": [
        "##### Cluster frecuencies "
      ]
    },
    {
      "cell_type": "code",
      "metadata": {
        "id": "rmmMs6_Gj7oG",
        "colab_type": "code",
        "colab": {}
      },
      "source": [
        "# cluster frequencies\n",
        "merged_X.cluster.value_counts()"
      ],
      "execution_count": 0,
      "outputs": []
    },
    {
      "cell_type": "markdown",
      "metadata": {
        "id": "hWat3bPvkFcs",
        "colab_type": "text"
      },
      "source": [
        "#### Current calsification frecuencies"
      ]
    },
    {
      "cell_type": "code",
      "metadata": {
        "id": "U90aV9WUhKq9",
        "colab_type": "code",
        "colab": {}
      },
      "source": [
        "merged_X.Clasif_Num.value_counts()"
      ],
      "execution_count": 0,
      "outputs": []
    },
    {
      "cell_type": "markdown",
      "metadata": {
        "id": "TOjL7rmgnJV5",
        "colab_type": "text"
      },
      "source": [
        "## Statistics by cluster\n"
      ]
    },
    {
      "cell_type": "code",
      "metadata": {
        "id": "vcBMMwdepGnA",
        "colab_type": "code",
        "colab": {}
      },
      "source": [
        "## With OTM\n",
        "f = plt.figure(figsize=(6, 6))\n",
        "gs = f.add_gridspec(2, 2)\n",
        "\n",
        "with sns.axes_style(\"ticks\"):\n",
        "    ax = f.add_subplot(gs[0, 0])\n",
        "    sns.boxplot(x=merged_X[\"cluster\"], y=merged_X[\"Count_Skus\"], data=merged_X)\n",
        "\n",
        "with sns.axes_style(\"ticks\"):\n",
        "    ax = f.add_subplot(gs[0, 1])\n",
        "    sns.boxplot(x=merged_X[\"cluster\"], y=merged_X[\"Sum_Euro\"], data=merged_X)\n",
        "\n",
        "with sns.axes_style(\"ticks\"):\n",
        "    ax = f.add_subplot(gs[1, 0])\n",
        "    sns.boxplot(x=merged_X[\"cluster\"], y=merged_X[\"Count_Top 10\"], data=merged_X)\n",
        "\n",
        "with sns.axes_style(\"ticks\"):\n",
        "    ax = f.add_subplot(gs[1, 1])\n",
        "    sns.boxplot(x=merged_X[\"cluster\"], y=merged_X[\"Sum_Cajas\"], data=merged_X)\n",
        "\n",
        "f.tight_layout()"
      ],
      "execution_count": 0,
      "outputs": []
    },
    {
      "cell_type": "markdown",
      "metadata": {
        "id": "tXHpYXImBx7g",
        "colab_type": "text"
      },
      "source": [
        "### References\n",
        "\n",
        "* https://community.alteryx.com/t5/Alteryx-Designer-Knowledge-Base/Tool-Mastery-Python/ta-p/197860\n",
        "* https://scikit-learn.org/stable/modules/preprocessing.html\n",
        "* https://benalexkeen.com/feature-scaling-with-scikit-learn/\n",
        "* https://medium.com/@stallonejacob/data-science-scaling-of-data-in-python-ec7ad220b339\n",
        "* https://medium.com/@dey.mallika/unsupervised-learning-with-weighted-k-means-3828b708d75d\n",
        "* https://seaborn.pydata.org/generated/seaborn.heatmap.html"
      ]
    }
  ]
}