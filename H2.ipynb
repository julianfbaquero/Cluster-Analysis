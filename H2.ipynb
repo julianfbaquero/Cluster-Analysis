{
 "cells": [
  {
   "cell_type": "markdown",
   "metadata": {},
   "source": [
          "#################################
# List all non-standard packages to be imported by your 
# script here (only missing packages will be installed)
from ayx import Package
Package.installPackages(['pandas','numpy'])


#################################
from ayx import Alteryx


#################################
Alteryx.read("#1")
data = Alteryx.read("#1")


#################################
data.head()


#################################
from sklearn.cluster import KMeans


#################################
data.columns


#################################
df = data[['Count_Skus', 'Count_Categorias', 'Count_Marcas',
       'Sum_Piezas', 'Sum_Cajas', 'Count', 'Sum_GSV Local', 'Sum_GSV Euros', 'Sum_NIV EUROS - TMI ON',
       'CountNonNull_TOP10', 'Sum_NIV LOCAL - TMI ON']]
df.head()


#################################
KM = KMeans(n_clusters=5, random_state=0).fit(df)


#################################
print(KM.labels_)


#################################
import matplotlib.pyplot as plt

plt.scatter(df['Count_Skus'], df['Sum_GSV Euros'], c=KM.labels_)


#################################
from sklearn.preprocessing import StandardScaler
ss = StandardScaler()
DF_std = ss.fit_transform(data[['Count_Skus', 'Count_Categorias', 'Count_Marcas',
       'Sum_Piezas', 'Sum_Cajas', 'Count', 'Sum_GSV Local', 'Sum_GSV Euros', 'Sum_NIV EUROS - TMI ON',
       'CountNonNull_TOP10', 'Sum_NIV LOCAL - TMI ON']].values)



#################################
KM_2 = KMeans(n_clusters=5, random_state=0).fit(DF_std)


#################################
plt.scatter(df['Count_Skus'], df['Sum_GSV Euros'], c=KM_2.labels_)
plt.xlabel("# Skus")
plt.ylabel("GSV Euros")


#################################
from sklearn.preprocessing import MinMaxScaler
Mms = MinMaxScaler ()
X = data[['Count_Skus', 'Count_Categorias', 'Count_Marcas',
       'Sum_Piezas', 'Sum_Cajas', 'Count', 'Sum_GSV Local', 'Sum_GSV Euros', 'Sum_NIV EUROS - TMI ON',
       'CountNonNull_TOP10', 'Sum_NIV LOCAL - TMI ON']]
DF_nm = Mms.fit_transform(X)



#################################
KM_3 = KMeans(n_clusters=5, random_state=0).fit(DF_nm)


#################################
plt.scatter(df['Count_Skus'], df['Sum_GSV Euros'], c=KM_3.labels_)
plt.xlabel("# Skus")
plt.ylabel("GSV Euros")
plt.savefig('KM3.png')


#################################



#################################



#################################



#################################



#################################



#################################



#################################



#################################
##https://seaborn.pydata.org/generated/seaborn.heatmap.html


#################################



#################################
 ],
 "metadata": {
  "kernelspec": {
   "display_name": "Python 3",
   "language": "python",
   "name": "python3"
  },
  "language_info": {
   "codemirror_mode": {
    "name": "ipython",
    "version": 3
   },
   "file_extension": ".py",
   "mimetype": "text/x-python",
   "name": "python",
   "nbconvert_exporter": "python",
   "pygments_lexer": "ipython3",
   "version": "3.7.1"
  }
 },
 "nbformat": 4,
 "nbformat_minor": 2
}
